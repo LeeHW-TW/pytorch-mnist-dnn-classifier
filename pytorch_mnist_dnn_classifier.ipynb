{
 "cells": [
  {
   "cell_type": "code",
   "execution_count": 1,
   "metadata": {},
   "outputs": [],
   "source": [
    "import numpy as np\n",
    "import time, torch\n",
    "import torch.nn.functional as F\n",
    "from collections import OrderedDict\n",
    "from torch import nn, optim\n",
    "from torchvision import datasets, transforms\n",
    "%matplotlib inline\n",
    "%config InlineBackend.figure_format = 'retina'"
   ]
  },
  {
   "cell_type": "code",
   "execution_count": 2,
   "metadata": {
    "scrolled": true
   },
   "outputs": [],
   "source": [
    "# Define a transform to normalize the data\n",
    "transform = transforms.Compose([transforms.ToTensor(),\n",
    "                               transforms.Normalize((0.5, 0.5, 0.5), (0.5, 0.5, 0.5)),])\n",
    "# Download and load the training data\n",
    "trainset = datasets.MNIST('/home/yungshun/workspace/py3/pytorch-mnist-dnn-classifier/datasets/', download=True, train=True, transform=transform)\n",
    "trainloader = torch.utils.data.DataLoader(trainset, batch_size=64, shuffle=True)"
   ]
  },
  {
   "cell_type": "markdown",
   "metadata": {},
   "source": [
    "We'll build a network with `nn.Sequential` here. Only difference from the last part is we're not actually using softmax on the output, but instead just using the raw output from the last layer. This is because the output from softmax is a probability distribution. Often, the output will have values really close to zero or really close to one. Due to [inaccuracies with representing numbers as floating points](https://docs.python.org/3/tutorial/floatingpoint.html), computations with a softmax output can lose accuracy and become unstable. To get around this, we'll use the raw output, called the **logits**, to calculate the loss."
   ]
  },
  {
   "cell_type": "code",
   "execution_count": 3,
   "metadata": {},
   "outputs": [],
   "source": [
    "# Hyperparameters for our network\n",
    "input_size = 784\n",
    "hidden_sizes = [128, 64]\n",
    "output_size = 10\n",
    "\n",
    "# Build a feed-forward network\n",
    "model = nn.Sequential(OrderedDict([\n",
    "    ('fc1', nn.Linear(input_size, hidden_sizes[0])),\n",
    "    ('relu1', nn.ReLU()),\n",
    "    ('fc2', nn.Linear(hidden_sizes[0], hidden_sizes[1])),\n",
    "    ('relu2', nn.ReLU()),\n",
    "    ('logits', nn.Linear(hidden_sizes[1], output_size))\n",
    "]))"
   ]
  },
  {
   "cell_type": "markdown",
   "metadata": {},
   "source": [
    "Define the loss function. In PyTorch, you'll usually see this as criterion. \n",
    "Here we're using softmax output, so we want to use `criterion = nn.CrossEntropyLoss()` \n",
    "as our loss. Later when training, you use `loss = criterion(output, targets)` \n",
    "to calculate the actual loss.\n",
    "\n",
    "We also need to define the optimizer we're using, SGD or Adam, or something along \n",
    "those lines. Here I'll just use SGD with `torch.optim.SGD`, passing in the network \n",
    "parameters and the learning rate."
   ]
  },
  {
   "cell_type": "code",
   "execution_count": 4,
   "metadata": {},
   "outputs": [],
   "source": [
    "criterion = nn.CrossEntropyLoss()\n",
    "optimizer = optim.SGD(model.parameters(), lr=0.01)"
   ]
  },
  {
   "cell_type": "markdown",
   "metadata": {},
   "source": [
    "The general process with PyTorch:\n",
    "1. Make a forward pass through the network to get the logits \n",
    "2. Use the logits to calculate the loss\n",
    "3. Perform a backward pass through the network with `loss.backward()` to calculate the gradients\n",
    "4. Take a step with the optimizer to update the weights"
   ]
  },
  {
   "cell_type": "code",
   "execution_count": 5,
   "metadata": {
    "scrolled": true
   },
   "outputs": [
    {
     "name": "stdout",
     "output_type": "stream",
     "text": [
      "Initial weights - Parameter containing:\n",
      "tensor([[-0.0163, -0.0299, -0.0349,  ...,  0.0347, -0.0252, -0.0058],\n",
      "        [-0.0186, -0.0143,  0.0088,  ..., -0.0062, -0.0316,  0.0136],\n",
      "        [ 0.0213,  0.0053, -0.0127,  ...,  0.0154, -0.0284, -0.0277],\n",
      "        ...,\n",
      "        [ 0.0081,  0.0004, -0.0207,  ..., -0.0252,  0.0056, -0.0110],\n",
      "        [ 0.0112,  0.0079,  0.0223,  ...,  0.0086,  0.0063, -0.0308],\n",
      "        [-0.0145, -0.0104,  0.0213,  ..., -0.0227, -0.0254,  0.0206]],\n",
      "       requires_grad=True)\n",
      "Gradient - tensor([[-0.0012, -0.0012, -0.0012,  ..., -0.0012, -0.0012, -0.0012],\n",
      "        [-0.0010, -0.0010, -0.0010,  ..., -0.0010, -0.0010, -0.0010],\n",
      "        [ 0.0000,  0.0000,  0.0000,  ...,  0.0000,  0.0000,  0.0000],\n",
      "        ...,\n",
      "        [ 0.0002,  0.0002,  0.0002,  ...,  0.0002,  0.0002,  0.0002],\n",
      "        [ 0.0001,  0.0001,  0.0001,  ...,  0.0001,  0.0001,  0.0001],\n",
      "        [-0.0005, -0.0005, -0.0005,  ..., -0.0005, -0.0005, -0.0005]])\n"
     ]
    }
   ],
   "source": [
    "print('Initial weights -', model.fc1.weight)\n",
    "\n",
    "images, labels = next(iter(trainloader))\n",
    "images.resize_(64, 784)\n",
    "\n",
    "# Clear the gradients, do this because gradients are accumulated\n",
    "optimizer.zero_grad()\n",
    "\n",
    "# Forward pass, then backward pass, then update weights\n",
    "output = model.forward(images)\n",
    "loss = criterion(output, labels)\n",
    "loss.backward()\n",
    "print('Gradient -', model.fc1.weight.grad)\n",
    "optimizer.step()"
   ]
  },
  {
   "cell_type": "code",
   "execution_count": 6,
   "metadata": {},
   "outputs": [
    {
     "name": "stdout",
     "output_type": "stream",
     "text": [
      "Updated weights - Parameter containing:\n",
      "tensor([[-0.0163, -0.0299, -0.0349,  ...,  0.0347, -0.0252, -0.0058],\n",
      "        [-0.0186, -0.0143,  0.0088,  ..., -0.0062, -0.0316,  0.0136],\n",
      "        [ 0.0213,  0.0053, -0.0127,  ...,  0.0154, -0.0284, -0.0277],\n",
      "        ...,\n",
      "        [ 0.0081,  0.0004, -0.0207,  ..., -0.0252,  0.0056, -0.0110],\n",
      "        [ 0.0112,  0.0079,  0.0223,  ...,  0.0086,  0.0063, -0.0308],\n",
      "        [-0.0145, -0.0104,  0.0213,  ..., -0.0227, -0.0254,  0.0206]],\n",
      "       requires_grad=True)\n"
     ]
    }
   ],
   "source": [
    "print('Updated weights -', model.fc1.weight)"
   ]
  },
  {
   "cell_type": "code",
   "execution_count": 7,
   "metadata": {},
   "outputs": [],
   "source": [
    "# Train for real\n",
    "optimizer = optim.SGD(model.parameters(), lr=0.003)"
   ]
  },
  {
   "cell_type": "code",
   "execution_count": 8,
   "metadata": {},
   "outputs": [
    {
     "name": "stdout",
     "output_type": "stream",
     "text": [
      "Epoch: 1/3...  Loss: 2.2964\n",
      "Epoch: 1/3...  Loss: 2.2726\n",
      "Epoch: 1/3...  Loss: 2.2571\n",
      "Epoch: 1/3...  Loss: 2.2348\n",
      "Epoch: 1/3...  Loss: 2.2124\n",
      "Epoch: 1/3...  Loss: 2.1885\n",
      "Epoch: 1/3...  Loss: 2.1672\n",
      "Epoch: 1/3...  Loss: 2.1336\n",
      "Epoch: 1/3...  Loss: 2.1083\n",
      "Epoch: 1/3...  Loss: 2.0717\n",
      "Epoch: 1/3...  Loss: 2.0352\n",
      "Epoch: 1/3...  Loss: 1.9902\n",
      "Epoch: 1/3...  Loss: 1.9548\n",
      "Epoch: 1/3...  Loss: 1.8951\n",
      "Epoch: 1/3...  Loss: 1.8589\n",
      "Epoch: 1/3...  Loss: 1.7927\n",
      "Epoch: 1/3...  Loss: 1.7488\n",
      "Epoch: 1/3...  Loss: 1.6761\n",
      "Epoch: 1/3...  Loss: 1.6230\n",
      "Epoch: 1/3...  Loss: 1.5471\n",
      "Epoch: 1/3...  Loss: 1.4765\n",
      "Epoch: 1/3...  Loss: 1.4350\n",
      "Epoch: 1/3...  Loss: 1.3655\n",
      "Epoch: 2/3...  Loss: 0.7088\n",
      "Epoch: 2/3...  Loss: 1.2300\n",
      "Epoch: 2/3...  Loss: 1.1742\n",
      "Epoch: 2/3...  Loss: 1.1280\n",
      "Epoch: 2/3...  Loss: 1.0631\n",
      "Epoch: 2/3...  Loss: 1.0379\n",
      "Epoch: 2/3...  Loss: 0.9702\n",
      "Epoch: 2/3...  Loss: 0.9312\n",
      "Epoch: 2/3...  Loss: 0.8763\n",
      "Epoch: 2/3...  Loss: 0.8726\n",
      "Epoch: 2/3...  Loss: 0.8394\n",
      "Epoch: 2/3...  Loss: 0.7997\n",
      "Epoch: 2/3...  Loss: 0.8102\n",
      "Epoch: 2/3...  Loss: 0.7368\n",
      "Epoch: 2/3...  Loss: 0.7150\n",
      "Epoch: 2/3...  Loss: 0.7087\n",
      "Epoch: 2/3...  Loss: 0.6816\n",
      "Epoch: 2/3...  Loss: 0.6755\n",
      "Epoch: 2/3...  Loss: 0.6726\n",
      "Epoch: 2/3...  Loss: 0.6641\n",
      "Epoch: 2/3...  Loss: 0.6226\n",
      "Epoch: 2/3...  Loss: 0.6302\n",
      "Epoch: 2/3...  Loss: 0.6223\n",
      "Epoch: 3/3...  Loss: 0.0558\n",
      "Epoch: 3/3...  Loss: 0.5872\n",
      "Epoch: 3/3...  Loss: 0.5808\n",
      "Epoch: 3/3...  Loss: 0.5724\n",
      "Epoch: 3/3...  Loss: 0.5829\n",
      "Epoch: 3/3...  Loss: 0.5472\n",
      "Epoch: 3/3...  Loss: 0.5631\n",
      "Epoch: 3/3...  Loss: 0.5403\n",
      "Epoch: 3/3...  Loss: 0.5325\n",
      "Epoch: 3/3...  Loss: 0.5096\n",
      "Epoch: 3/3...  Loss: 0.4940\n",
      "Epoch: 3/3...  Loss: 0.5097\n",
      "Epoch: 3/3...  Loss: 0.5087\n",
      "Epoch: 3/3...  Loss: 0.5175\n",
      "Epoch: 3/3...  Loss: 0.4984\n",
      "Epoch: 3/3...  Loss: 0.4835\n",
      "Epoch: 3/3...  Loss: 0.4591\n",
      "Epoch: 3/3...  Loss: 0.5024\n",
      "Epoch: 3/3...  Loss: 0.4552\n",
      "Epoch: 3/3...  Loss: 0.4928\n",
      "Epoch: 3/3...  Loss: 0.4746\n",
      "Epoch: 3/3...  Loss: 0.4389\n",
      "Epoch: 3/3...  Loss: 0.4646\n",
      "Epoch: 3/3...  Loss: 0.4586\n"
     ]
    }
   ],
   "source": [
    "epochs = 3\n",
    "print_every = 40\n",
    "steps = 0\n",
    "for e in range(epochs):\n",
    "    running_loss = 0\n",
    "    for images, labels in iter(trainloader):\n",
    "        steps += 1\n",
    "        # Flatten MNIST images into a 784 long vector\n",
    "        images.resize_(images.size()[0], 784)\n",
    "        \n",
    "        optimizer.zero_grad()\n",
    "        \n",
    "        # Forward and backward passes\n",
    "        output = model.forward(images)\n",
    "        loss = criterion(output, labels)\n",
    "        loss.backward()\n",
    "        optimizer.step()\n",
    "        \n",
    "        running_loss += loss.item()\n",
    "        \n",
    "        if steps % print_every == 0:\n",
    "            print(\"Epoch: {}/{}... \".format(e+1, epochs),\n",
    "                  \"Loss: {:.4f}\".format(running_loss/print_every))\n",
    "            \n",
    "            running_loss = 0"
   ]
  },
  {
   "cell_type": "code",
   "execution_count": 12,
   "metadata": {},
   "outputs": [],
   "source": [
    "import matplotlib.pyplot as plt"
   ]
  },
  {
   "cell_type": "code",
   "execution_count": 13,
   "metadata": {},
   "outputs": [],
   "source": [
    "def view_classify(img, ps, version=\"MNIST\"):\n",
    "    ''' Function for viewing an image and it's predicted classes.\n",
    "    '''\n",
    "    ps = ps.data.numpy().squeeze()\n",
    "\n",
    "    fig, (ax1, ax2) = plt.subplots(figsize=(6,9), ncols=2)\n",
    "    ax1.imshow(img.resize_(1, 28, 28).numpy().squeeze())\n",
    "    ax1.axis('off')\n",
    "    ax2.barh(np.arange(10), ps)\n",
    "    ax2.set_aspect(0.1)\n",
    "    ax2.set_yticks(np.arange(10))\n",
    "    if version == \"MNIST\":\n",
    "        ax2.set_yticklabels(np.arange(10))\n",
    "    elif version == \"Fashion\":\n",
    "        ax2.set_yticklabels(['T-shirt/top',\n",
    "                            'Trouser',\n",
    "                            'Pullover',\n",
    "                            'Dress',\n",
    "                            'Coat',\n",
    "                            'Sandal',\n",
    "                            'Shirt',\n",
    "                            'Sneaker',\n",
    "                            'Bag',\n",
    "                            'Ankle Boot'], size='small');\n",
    "    ax2.set_title('Class Probability')\n",
    "    ax2.set_xlim(0, 1.1)\n",
    "\n",
    "    plt.tight_layout()"
   ]
  },
  {
   "cell_type": "code",
   "execution_count": 14,
   "metadata": {},
   "outputs": [
    {
     "data": {
      "image/png": "[encoded data removed]",
      "text/plain": [
       "<Figure size 432x648 with 2 Axes>"
      ]
     },
     "metadata": {
      "image/png": {
       "height": 224,
       "width": 423
      }
     },
     "output_type": "display_data"
    }
   ],
   "source": [
    "images, labels = next(iter(trainloader))\n",
    "\n",
    "img = images[0].view(1, 784)\n",
    "# Turn off gradients to speed up this part\n",
    "with torch.no_grad():\n",
    "    logits = model.forward(img)\n",
    "\n",
    "# Output of the network are logits, need to take softmax for probabilities\n",
    "ps = F.softmax(logits, dim=1)\n",
    "view_classify(img.view(1, 28, 28), ps)"
   ]
  }
 ],
 "metadata": {
  "kernelspec": {
   "display_name": "Python 3",
   "language": "python",
   "name": "python3"
  },
  "language_info": {
   "codemirror_mode": {
    "name": "ipython",
    "version": 3
   },
   "file_extension": ".py",
   "mimetype": "text/x-python",
   "name": "python",
   "nbconvert_exporter": "python",
   "pygments_lexer": "ipython3",
   "version": "3.5.2"
  }
 },
 "nbformat": 4,
 "nbformat_minor": 2
}
